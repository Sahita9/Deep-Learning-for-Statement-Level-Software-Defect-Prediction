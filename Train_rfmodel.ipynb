{
  "cells": [
    {
      "cell_type": "code",
      "execution_count": null,
      "metadata": {
        "id": "Gyf8E3PwsvF6"
      },
      "outputs": [],
      "source": [
        "import warnings\n",
        "warnings.filterwarnings(\"ignore\")\n",
        "import tensorflow as tf\n",
        "\n",
        "import numpy as np\n",
        "import pandas as pd\n",
        "import tensorflow.keras as keras\n",
        "from tensorflow.keras.layers import *\n",
        "from tensorflow.keras.models import *\n",
        "from tensorflow.keras.activations import *\n",
        "from sklearn import metrics\n",
        "from sklearn.preprocessing import StandardScaler\n",
        "import os\n",
        "import itertools\n",
        "import string\n",
        "import tensorflow as tf\n",
        "from itertools import product\n",
        "import math\n",
        "from Utils import lex\n",
        "from Utils import yacc\n",
        "from Utils import cpp\n",
        "import zipfile\n",
        "\n",
        "from sklearn.ensemble import RandomForestClassifier\n",
        "from sklearn.model_selection import GridSearchCV\n",
        "from sklearn.neighbors import KNeighborsClassifier\n",
        "from sklearn.metrics import plot_precision_recall_curve\n",
        "from sklearn.metrics import roc_curve\n",
        "from sklearn.metrics import roc_auc_score\n",
        "from sklearn.metrics import precision_recall_curve\n",
        "#from tensorflow.keras.utils import multi_gpu_model\n",
        "import tensorflow.keras.backend as K\n",
        "\n"
      ]
    },
    {
      "cell_type": "markdown",
      "metadata": {
        "id": "kP774FyxsvF8"
      },
      "source": [
        "# Here We Will Configure The Global Variables"
      ]
    },
    {
      "cell_type": "code",
      "execution_count": null,
      "metadata": {
        "id": "tmTOM1MYsvF9"
      },
      "outputs": [],
      "source": [
        "zip_name = \"data(10kfiles).zip\"\n",
        "\n",
        "# The collumns containing the code info\n",
        "cols = [\"code\", \"block\"]\n",
        "# The Archive Containing The Actual Codes\n",
        "archive = zipfile.ZipFile('data(10kfiles).zip', 'r')\n",
        "# The first name is the name of the containing folder of the codes\n",
        "list_files = archive.namelist()[1:]\n",
        "# Now We will make a scanner for the C++ language\n",
        "scanner = lex.lex(cpp)\n",
        "# If any thing was considered fault at the line i, we will consider all the lines [i - range_n, i + range_n) to be fault\n",
        "range_n = 4\n",
        "# Then We Define The literals of the program\n",
        "lits = cpp.literals\n",
        "# Then We Define The Tokens\n",
        "toks = list(cpp.tokens)\n",
        "# We remove the White Space token to add it later\n",
        "toks.remove(\"CPP_WS\")\n",
        "# We add the White Space token here because we want it to have the value of zero, we'll use this latter for padding lines of code\n",
        "toks.insert(0, \"CPP_WS\")\n",
        "# Tok 2 N : a dictionary from tokens to thier integer, mapped, value\n",
        "tok2n = dict(zip(toks + [i for i in lits], itertools.count()))\n",
        "# N 2 Tok : a dictionary from integers to thier token, mapped, value\n",
        "n2tok = dict(zip(itertools.count(), toks + [i for i in lits]))\n",
        "\n",
        "# The maximum value we allow in as a constant value in a code\n",
        "max_v = 2147483647 - 1\n",
        "\n",
        "# The amount of importance we give to 1s 0s and false postives and false negatives\n",
        "WEIGHTS_FOR_LOSS = np.array([[2,0],[0,0]])\n",
        "\n",
        "\n",
        "NN_MODEL = \"nn\"\n",
        "RANDOM_FOREST_MODEL = \"RF\"\n",
        "KNN_MODEL = \"KNN\"\n",
        "\n",
        "# The type of model we will use in our work\n",
        "#model_type = NN_MODEL\n",
        "model_type = RANDOM_FOREST_MODEL\n",
        "\n",
        "num_gpu = 6\n",
        "\n",
        "weight_class_0 = 1\n",
        "weight_class_1 = 5"
      ]
    },
    {
      "cell_type": "markdown",
      "metadata": {
        "id": "8qhAKZezsvF-"
      },
      "source": [
        "# Here We Will Make A Custom Loss Function"
      ]
    },
    {
      "cell_type": "code",
      "execution_count": null,
      "metadata": {
        "id": "NZcQbtWKsvF-"
      },
      "outputs": [],
      "source": [
        "def get_loss_function(weights, rnn=True):\n",
        "\n",
        "    '''\n",
        "    gives us the loss function\n",
        "    '''\n",
        "    def w_categorical_crossentropy_mine(y_true, y_pred):\n",
        "        nb_cl = len(weights)\n",
        "\n",
        "        if(not rnn):\n",
        "            final_mask = K.zeros_like(y_pred[:, 0])\n",
        "            y_pred_max = K.max(y_pred, axis=1)\n",
        "            y_pred_max = K.reshape(y_pred_max, (K.shape(y_pred)[0], 1))\n",
        "            y_pred_max_mat = K.equal(y_pred, y_pred_max)\n",
        "            for c_p, c_t in product(range(nb_cl), range(nb_cl)):\n",
        "                final_mask += ( weights[c_t, c_p] * K.cast(y_pred_max_mat, tf.float32)[:, c_p] * K.cast(y_true, tf.float32)[:, c_t]  )\n",
        "            return K.categorical_crossentropy(y_true, y_pred, True) * final_mask\n",
        "        else:\n",
        "            final_mask = K.zeros_like(y_pred[:, :,0])\n",
        "            y_pred_max = K.max(y_pred, axis=2)\n",
        "            y_pred_max = K.reshape(y_pred_max, (K.shape(y_pred)[0], K.shape(y_pred)[1], 1))\n",
        "            y_pred_max_mat = K.equal(y_pred, y_pred_max)\n",
        "            for c_p, c_t in product(range(nb_cl), range(nb_cl)):\n",
        "                final_mask += ( weights[c_t, c_p] * K.cast(y_pred_max_mat, tf.float32)[:, :,c_p] * K.cast(y_true, tf.float32)[:, :,c_t]  )\n",
        "            return K.categorical_crossentropy(y_true, y_pred, True) * final_mask\n",
        "\n",
        "\n",
        "    return w_categorical_crossentropy_mine"
      ]
    },
    {
      "cell_type": "markdown",
      "metadata": {
        "id": "NeoXZNxjsvF-"
      },
      "source": [
        "# Reading The Data From The Archive"
      ]
    },
    {
      "cell_type": "code",
      "execution_count": null,
      "metadata": {
        "id": "C_kqAryWsvF-"
      },
      "outputs": [],
      "source": [
        "def get_data(list_files, archive, log = False):\n",
        "    '''\n",
        "    reads the data and handles the range_n number\n",
        "    '''\n",
        "    res = []\n",
        "    for i in list_files:\n",
        "        try :\n",
        "            x = pd.read_csv(archive.open(i), sep = \"`\")\n",
        "            res.append(x)\n",
        "        except Exception:\n",
        "            print(i)\n",
        "            continue\n",
        "    resF = []\n",
        "    for n_i, i in enumerate(res) :\n",
        "\n",
        "        if i.shape[0] is 0 :\n",
        "            continue\n",
        "\n",
        "        a = i.values\n",
        "        b = a.copy()\n",
        "#         This line of code will change the data from (Features, beingWrong) to (Features, beginRight, beingWrong)\n",
        "        b = np.concatenate([b[:, :-1], b[:, -1:].astype(np.int) ^ 1, b[:, -1:]], axis = -1)\n",
        "\n",
        "\n",
        "        for j in range(len(b)):\n",
        "            if np.sum(a[j - range_n : j + range_n, -1]) > 0 :\n",
        "#                 This was explained before the declaration of range_n\n",
        "                b[j, -1] = 1\n",
        "                b[j, -2] = 0\n",
        "        for x in range(len(b)):\n",
        "            for y in range(len(b[x])):\n",
        "#                 Here we will try to change any thing that is not the code it self and which is a string into numbers\n",
        "                if y > 1 :\n",
        "                    if type(b[x, y]) == str :\n",
        "                        try :\n",
        "                            float(b[x, y].strip())\n",
        "                        except Exception :\n",
        "                            b[x, y] = -3\n",
        "                elif y == 1 :\n",
        "                    b[x, y] = \"DATA DOES NOT MATTER\"\n",
        "#         By 0s we mean the code being fine and so on\n",
        "        b = pd.DataFrame(b, columns=list(i.columns)[:-1] + [\"0s\", \"1s\"])\n",
        "        b.replace(\"#empty\", np.nan, inplace =True)\n",
        "        resF.append(b.dropna())\n",
        "\n",
        "    if log :\n",
        "        print(\"data was read and changed\")\n",
        "    return resF\n",
        "\n",
        "\n",
        "\n",
        "\n",
        ""
      ]
    },
    {
      "cell_type": "markdown",
      "metadata": {
        "id": "5JeCFaXqsvF_"
      },
      "source": [
        "# Lexical Scanner Function"
      ]
    },
    {
      "cell_type": "code",
      "execution_count": null,
      "metadata": {
        "id": "JeJqbNfqsvF_"
      },
      "outputs": [],
      "source": [
        "def get_replacement(scanner, string_in):\n",
        "\n",
        "    '''\n",
        "    gets a string and returns the None, 2 which is the tokenized version\n",
        "    '''\n",
        "    try :\n",
        "        scanner.input(string_in)\n",
        "    except Exception as e :\n",
        "        print(\"Exception in using the lex\", e)\n",
        "        print(string_in)\n",
        "    token = scanner.token()\n",
        "\n",
        "\n",
        "#     id2n and n2id are the same as n2tok tok2n but they are extended to contain the information of the symbol table of each code separately\n",
        "    id2n = dict(zip([i for i in lits], [tok2n[i] for i in lits]))\n",
        "    n2id = dict(zip([tok2n[i] for i in lits], [i for i in lits]))\n",
        "\n",
        "    n_id = len(lits) + 1\n",
        "\n",
        "\n",
        "    res = []\n",
        "\n",
        "    while token is not None :\n",
        "\n",
        "        t = token.type\n",
        "\n",
        "#         If we have recieved a token and it is not something we need to use ord for\n",
        "        if t in cpp.tokens :\n",
        "#             Reciving a white space\n",
        "            if token.type == cpp.tokens[cpp.tokens.index(\"CPP_WS\")]:\n",
        "                #this is because this will make it easier for us to pad our data\n",
        "                v = 0\n",
        "#             Reciving an ID from the code\n",
        "            elif token.type == cpp.tokens[cpp.tokens.index(\"CPP_ID\")]:\n",
        "                v = token.value\n",
        "#                 Checking if need to add the id to n2id or not\n",
        "                if v in id2n.keys() :\n",
        "                    pass\n",
        "                else :\n",
        "                    id2n[v] = n_id\n",
        "                    n2id[n_id] = v\n",
        "\n",
        "                    n_id += 1\n",
        "                v = id2n[v]\n",
        "#             If we receive a string (We don't use the value of strings)\n",
        "            elif token.type == cpp.tokens[cpp.tokens.index(\"CPP_STRING\")]:\n",
        "                v = -1\n",
        "#             If we recive #\n",
        "            elif token.type == cpp.tokens[cpp.tokens.index(\"CPP_POUND\")]:\n",
        "                v = -2\n",
        "#             If we recive ##\n",
        "            elif token.type == cpp.tokens[cpp.tokens.index(\"CPP_DPOUND\")]:\n",
        "                v = -3\n",
        "#             If we recive char\n",
        "            elif token.type == cpp.tokens[cpp.tokens.index(\"CPP_CHAR\")]:\n",
        "                v = -4\n",
        "            elif token.type in cpp.tokens[3:]:\n",
        "                print(\"some thing went really wrong\")\n",
        "#             Parsing the value of constant values\n",
        "            else:\n",
        "                try :\n",
        "                    tv = token.value.lower()\n",
        "                    if tv[-1] == \"l\" :\n",
        "                        tv = tv[:-1]\n",
        "                    if tv[-1] == \"u\" :\n",
        "                        tv = tv[:-1]\n",
        "                    if \"x\" in  tv :\n",
        "                        v = int(tv, base = 16)\n",
        "                    elif tv[-1].lower() == \"l\":\n",
        "                        if tv[-2].lower() == \"u\" :\n",
        "                            v = float(tv[:-2])\n",
        "                        else :\n",
        "                            v = float(tv[:-1])\n",
        "                    else :\n",
        "                        v = float(tv)\n",
        "                    v = np.clip(v, - max_v, max_v)\n",
        "\n",
        "                except Exception as e :\n",
        "                    print(\"Couldn't scan this number\", token)\n",
        "                    return\n",
        "\n",
        "\n",
        "\n",
        "\n",
        "        else :\n",
        "            v = ord(t)\n",
        "        try :\n",
        "            t = tok2n[t]\n",
        "        except Exception :\n",
        "            n = len(id2n.keys()) + 1\n",
        "            tok2n[t] = n\n",
        "            n2tok[n] = t\n",
        "            id2n[t] = n\n",
        "            n2id[n] = t\n",
        "            t = tok2n[t]\n",
        "\n",
        "        res.append([t, v])\n",
        "        token = scanner.token()\n",
        "\n",
        "    res = np.array(res)\n",
        "\n",
        "    return res\n",
        "\n",
        "\n",
        "\n",
        ""
      ]
    },
    {
      "cell_type": "markdown",
      "metadata": {
        "id": "mmUmTbGQsvF_"
      },
      "source": [
        "# Here We Will Tokenize Our Data Frames"
      ]
    },
    {
      "cell_type": "code",
      "execution_count": null,
      "metadata": {
        "id": "Ga4i9jPssvF_"
      },
      "outputs": [],
      "source": [
        "def tokenize_data(data):\n",
        "\n",
        "    '''\n",
        "    reads data and tokenizes each of the sentences and adds them together.\n",
        "    The out put will contain the actual data, max number of lines per code and mean number of lines per code\n",
        "    the actual data will have the following shape :\n",
        "\n",
        "    Number of codes, Number of lines per each code , 2 (Data and State)\n",
        "    State will contain (Code being right, Code Being Wrong)\n",
        "    Data Will Contain (Number Of Words, 2 (Token, Value))\n",
        "\n",
        "    '''\n",
        "\n",
        "    res = []\n",
        "    x = []\n",
        "    mean = 0\n",
        "    max_num = 0\n",
        "    for i in data:\n",
        "#         If We had any code submissions that was empty, we skip them\n",
        "        if i.shape[0] == 0 :\n",
        "            continue\n",
        "        temp = []\n",
        "        mean += i.shape[0]\n",
        "        max_num = max(max_num, i.shape[0])\n",
        "\n",
        "        for j in i.values :\n",
        "\n",
        "            try :\n",
        "                tok = get_replacement(scanner, j[0]).astype(np.float32)\n",
        "            except Exception as e :\n",
        "                continue\n",
        "\n",
        "            x.append(tok)\n",
        "\n",
        "            y = j[-2:]\n",
        "            temp.append([tok, y])\n",
        "\n",
        "        res.append(temp)\n",
        "    mean /= len(res)\n",
        "\n",
        "    return res, mean, max_num\n",
        "\n",
        "\n",
        ""
      ]
    },
    {
      "cell_type": "markdown",
      "metadata": {
        "id": "1-47OTSJsvGA"
      },
      "source": [
        "# Padding The Data In The Statement Level (Adding Words)"
      ]
    },
    {
      "cell_type": "code",
      "execution_count": null,
      "metadata": {
        "id": "mCeQeQUjsvGA"
      },
      "outputs": [],
      "source": [
        "def change_cols(num, res, empty):\n",
        "\n",
        "    '''\n",
        "\n",
        "    pads or removes data so they all have the same shape in one code  file\n",
        "\n",
        "    num : amount of word we'll have per each line\n",
        "    empty : what we'll use to pad our data with\n",
        "\n",
        "    '''\n",
        "\n",
        "    resF = []\n",
        "\n",
        "    for i in res :\n",
        "\n",
        "        temp = []\n",
        "\n",
        "        if (len(i) == 0):\n",
        "#           We'll any coding file which is empty\n",
        "            continue\n",
        "\n",
        "        for j in i :\n",
        "\n",
        "#             J[0] is the data and J[1] is the state\n",
        "\n",
        "            if len(j[0]) < num :\n",
        "\n",
        "                result = np.concatenate([j[0], np.ones(( num - len(j[0]), 2)) * empty], axis = 0)\n",
        "\n",
        "            elif len(j[0]) > num :\n",
        "                result = j[0][:num, :]\n",
        "            else :\n",
        "                result = j[0]\n",
        "\n",
        "            result = result.reshape((-1))\n",
        "\n",
        "#             This is so that we'll have the data and our state at the same time\n",
        "            result = np.concatenate([result, np.array([j[1]]).reshape((-1))], axis = 0)\n",
        "\n",
        "            temp.append(np.array(result))\n",
        "\n",
        "        resF.append(np.array(temp))\n",
        "\n",
        "    resF = np.array(resF)\n",
        "\n",
        "    return resF"
      ]
    },
    {
      "cell_type": "markdown",
      "metadata": {
        "id": "ZkMne4OUsvGA"
      },
      "source": [
        "# Concatenating The 32 Processed Columns And Lexical Feature"
      ]
    },
    {
      "cell_type": "code",
      "execution_count": null,
      "metadata": {
        "id": "RPw4m7HpsvGA"
      },
      "outputs": [],
      "source": [
        "def get_final_data(tokenized_final, data):\n",
        "\n",
        "\n",
        "    '''\n",
        "    adds the information from the parser to the things that were gained from the information of scanners\n",
        "    tokenized_final will be the output of \"change_cols\" and data will be the output of \"get_data\"\n",
        "    '''\n",
        "#     The first line reads data and drops the following columns : columns containing text of the parser or lex and the\n",
        "#     The last two columns which are the state of the code which we are trying to predict\n",
        "    dataR = np.concatenate([i.drop(cols, axis = 1).values[:, :-2] for i in data], axis = 0)\n",
        "    dataR = dataR.astype(np.float32)\n",
        "\n",
        "    cnt = 0\n",
        "\n",
        "    res = []\n",
        "\n",
        "\n",
        "    for i in tokenized_final :\n",
        "        temp = []\n",
        "        for j in i :\n",
        "\n",
        "            add = dataR[cnt, :]\n",
        "            temp.append(np.concatenate([add, j], axis = 0))\n",
        "\n",
        "            cnt += 1\n",
        "\n",
        "\n",
        "        res.append(np.array(temp))\n",
        "    res = np.array(res)\n",
        "    return res"
      ]
    },
    {
      "cell_type": "markdown",
      "metadata": {
        "id": "H9f1pRJlsvGA"
      },
      "source": [
        "# Using All The Functions Above And Normalizing Data"
      ]
    },
    {
      "cell_type": "code",
      "execution_count": null,
      "metadata": {
        "id": "CL7_3CpXsvGA"
      },
      "outputs": [],
      "source": [
        "def gather_data(list_data, archive, scaler = None, add_all = False, type_add = 0,\n",
        "                pad1 = None, pad2 = None, return_before_pad = False, cons_per_line = 10, log  = False):\n",
        "    '''\n",
        "    Reading, Tokenizing, Concatenating And Normalizing Data\n",
        "    list_data : Name Of The Codes We Are Using\n",
        "    scalar : Scalar Used To Normalize Data, If None Is Presented, The Function Will Compute One\n",
        "    add_all : Whether Or Not We Want All Our Codes To Have The Same Amount As For The Lines Of Code\n",
        "    type_add : The amount of lines each code should contain : {0 : mean, 1 : max number of lines}\n",
        "    pad1 : The amount of words each line should contain, If None is presented const_per_line + mean(amount of words per line) would be used\n",
        "    pad2 : The amount of lines each code should contain, type_add would not be used if pad2 is not None\n",
        "    return_before_pad : Whether or not to also return the data before it was padded to have the same amount of lines percode\n",
        "    '''\n",
        "#     First We Read Our Data From The Zip File\n",
        "    data = get_data(list_data, archive)\n",
        "#     The We tokenize our data\n",
        "    r, mean, max_num = tokenize_data(data)\n",
        "\n",
        "#     Then We Create Our Empty Vector\n",
        "    empty = np.array([tok2n[\"CPP_WS\"], 0]).reshape(1, 2).astype(np.float32)\n",
        "\n",
        "#     The Defualt Option for Padding\n",
        "    if pad1 is None :\n",
        "        pad1 = int(mean) + cons_per_line\n",
        "\n",
        "#     We Padd Our Data At Each Line With Extra White Spaces\n",
        "    res = change_cols(pad1, r, empty)\n",
        "    r = np.array(res)\n",
        "\n",
        "#     Here we will concatenate our lexical features and our preprocessed features\n",
        "    r = get_final_data(r, data)\n",
        "    if log :\n",
        "        print(\"Padded The Lexical And Preprocessed Features of Data\")\n",
        "\n",
        "\n",
        "    res = r\n",
        "\n",
        "    if add_all :\n",
        "\n",
        "        if log :\n",
        "            print(\"Computing How Many Empty Line To Add To Codes \")\n",
        "        if pad2 is None :\n",
        "\n",
        "            mean = 0\n",
        "            max_num = -1\n",
        "            for i in r :\n",
        "                mean += i.shape[0]\n",
        "                max_num = max(max_num, i.shape[0])\n",
        "\n",
        "\n",
        "            mean /= r.shape[0]\n",
        "            nums = [int(mean), max_num]\n",
        "            pad2 = nums[type_add]\n",
        "\n",
        "        res = []\n",
        "        if log :\n",
        "            print(\"Computed How Many Empty Line To Add To Codes \")\n",
        "        for i in r :\n",
        "\n",
        "            if i.shape[0] < pad2 :\n",
        "\n",
        "                zeros = np.zeros([pad2 - i.shape[0], i.shape[1]])\n",
        "                zeros[:, -2] = 1\n",
        "                temp = np.concatenate([i, zeros], axis = 0)\n",
        "            elif i.shape[0] > pad2 :\n",
        "                temp = i[:pad2, :]\n",
        "            else :\n",
        "                temp = i\n",
        "            res.append(temp)\n",
        "        if log :\n",
        "            print(\"Added All The Empty Lines \")\n",
        "\n",
        "    res = np.array(res)\n",
        "\n",
        "    save_r = r.copy()\n",
        "\n",
        "    r = np.concatenate(res, axis = 0).astype(np.float32)\n",
        "\n",
        "\n",
        "    if scaler is None :\n",
        "\n",
        "        scaler = StandardScaler().fit(r[:, :-2].astype(np.float32))\n",
        "        if log :\n",
        "            print(\"Computed Mean And Standard Deviation For Normalization \")\n",
        "\n",
        "    for i, iv in enumerate(res) :\n",
        "\n",
        "        res[i, :, :-2] = scaler.transform(iv[:, :-2].astype(np.float32)).astype(np.float32)\n",
        "\n",
        "        if log :\n",
        "            print(\"Data Was Normalized \")\n",
        "\n",
        "\n",
        "    if return_before_pad :\n",
        "        return res, scaler, pad1, pad2, save_r\n",
        "\n",
        "    return res, scaler, pad1, pad2\n",
        "\n",
        "\n",
        "\n",
        "\n",
        "\n",
        "\n",
        "\n",
        "\n",
        ""
      ]
    },
    {
      "cell_type": "markdown",
      "metadata": {
        "id": "TkaNfxfFsvGB"
      },
      "source": [
        "# Making The Neural Network Model"
      ]
    },
    {
      "cell_type": "code",
      "execution_count": null,
      "metadata": {
        "id": "t-2BvXbdsvGB"
      },
      "outputs": [],
      "source": [
        "def get_model(shape):\n",
        "\n",
        "\n",
        "    '''\n",
        "    gets the first rnn model\n",
        "    shape : shape of the input : shape of the codes [Number of lines (which can be None), Number of Fetures per line]\n",
        "    '''\n",
        "    in1 = Input(shape)\n",
        "    X = Bidirectional(LSTM(150, return_sequences=True, dropout=0.25, recurrent_dropout=0.1))(in1)\n",
        "    X = LSTM(150, return_sequences=True, dropout=0.25, recurrent_dropout=0.1,)(X)\n",
        "    X = Dropout(0.2)(X)\n",
        "    X = Dense(256, activation=relu)(X)\n",
        "    X = Dropout(0.2)(X)\n",
        "    X = BatchNormalization()(X)\n",
        "    X = Dropout(0.3)(X)\n",
        "    X = Dense(128, activation=relu)(X)\n",
        "    X = BatchNormalization()(X)\n",
        "    X = Dropout(0.25)(X)\n",
        "    X = Dense(64, activation=relu)(X)\n",
        "    X = BatchNormalization()(X)\n",
        "    X = Dropout(0.3)(X)\n",
        "    X = Dense(32, activation=relu)(X)\n",
        "    X = BatchNormalization()(X)\n",
        "    X = Dropout(0.4)(X)\n",
        "    X = Dense(16, activation=relu)(X)\n",
        "    X = BatchNormalization()(X)\n",
        "    X = Dropout(0.4)(X)\n",
        "\n",
        "    X = Dense(2, activation=softmax)(X)\n",
        "\n",
        "\n",
        "\n",
        "\n",
        "    model = Model(in1, X)\n",
        "\n",
        "\n",
        "\n",
        "    return model\n",
        ""
      ]
    },
    {
      "cell_type": "markdown",
      "metadata": {
        "id": "Yx9VynOnsvGB"
      },
      "source": [
        "# Making The Ranodm Forest Model"
      ]
    },
    {
      "cell_type": "code",
      "execution_count": null,
      "metadata": {
        "id": "wMyhZ8LVsvGB"
      },
      "outputs": [],
      "source": [
        "def get_random_forest_model(shape, k):\n",
        "\n",
        "    rf = RandomForestClassifier(n_jobs=-1)\n",
        "    tuned_parameters =  {\"n_estimators\" : [100 * (i*2) for i in range(1, 4)],\n",
        "                         \"max_depth\" : [2**i for i in range(5, 8)],\n",
        "                         \"min_samples_split\" : list(np.linspace(.2, .8, 4)),\n",
        "                         \"min_samples_leaf\" : list(np.linspace(.2, .5, 4)),\n",
        "#                          \"max_features\" : [shape[-1] // (2**i) for i in range(1)]\n",
        "\n",
        "                        }\n",
        "    res = GridSearchCV(rf, tuned_parameters, n_jobs=-1, cv=k)\n",
        "\n",
        "    return res\n",
        ""
      ]
    },
    {
      "cell_type": "markdown",
      "metadata": {
        "id": "elNIdkjgsvGB"
      },
      "source": [
        "# Making The K-NN Model"
      ]
    },
    {
      "cell_type": "code",
      "execution_count": null,
      "metadata": {
        "id": "qlsjf5xRsvGB"
      },
      "outputs": [],
      "source": [
        "def get_KNN_model(shape, k):\n",
        "\n",
        "    rf = KNeighborsClassifier(n_jobs=-1)\n",
        "    tuned_parameters =  {\n",
        "                         \"n_neighbors\" : [min(int(shape[0]*((k-1)/k)), 10 * (i*2)) for i in range(1, 11)],\n",
        "                        }\n",
        "    res = GridSearchCV(rf, tuned_parameters, n_jobs=-1, cv=k)\n",
        "\n",
        "    return res\n",
        ""
      ]
    },
    {
      "cell_type": "markdown",
      "metadata": {
        "id": "8FkPGo1msvGC"
      },
      "source": [
        "# Different Measurements For Accuracy"
      ]
    },
    {
      "cell_type": "code",
      "execution_count": null,
      "metadata": {
        "id": "iP7mRNLjsvGC"
      },
      "outputs": [],
      "source": [
        "def get_acc(y_true, y_pred):\n",
        "\n",
        "    acc = metrics.confusion_matrix(y_true, y_pred, labels=[0, 1])\n",
        "#     True Positive\n",
        "    tp =  acc[1][1]\n",
        "    if tp==0:\n",
        "        tp+=0.0001\n",
        "#     False Negative\n",
        "    fn =  acc[1][0]\n",
        "    if fn==0:\n",
        "        fn+=0.0001\n",
        "#     False Positive\n",
        "    fp =  acc[0][1]\n",
        "    if fp==0:\n",
        "        fp+=0.0001\n",
        "#     True Negative\n",
        "    tn =  acc[0][0]\n",
        "    if tn==0:\n",
        "        tn+=0.0001\n",
        "#     Recall\n",
        "    rec1 = acc[1][1] / (acc[1][1] + acc[1][0])\n",
        "#     Precision\n",
        "    prec1 = acc[1][1] / (acc[1][1] + acc[0][1])\n",
        "#     Over ALl Accuracy\n",
        "    accuracy = (acc[1][1] + acc[0][0]) / (acc[1][1] + acc[0][0] + acc[1][0] + acc[0][1])\n",
        "#     F1 Accuracy\n",
        "    f1 = 2.0 / ((1.0/rec1) + (1.0/prec1))\n",
        "\n",
        "    return rec1, prec1, accuracy, f1 , tp , fn , fp , tn\n",
        "\n",
        ""
      ]
    },
    {
      "cell_type": "markdown",
      "metadata": {
        "id": "jvfrxEe2svGC"
      },
      "source": [
        "# Pre-Paring Data For Measurements"
      ]
    },
    {
      "cell_type": "code",
      "execution_count": null,
      "metadata": {
        "id": "FKvO9vMUsvGC"
      },
      "outputs": [],
      "source": [
        "def get_mus(y_true, x, model):\n",
        "\n",
        "    global model_type\n",
        "\n",
        "    if model_type == NN_MODEL:\n",
        "        y_t = np.argmax(y_true, axis = -1).reshape((-1))\n",
        "        y_p = model.predict(x)\n",
        "        y_p = np.argmax(y_p, axis=-1).reshape((-1))\n",
        "    else :\n",
        "        y_t = y_true\n",
        "        y_p = model.predict(x)\n",
        "\n",
        "\n",
        "    return get_acc(y_t, y_p)\n",
        "\n",
        "\n",
        ""
      ]
    },
    {
      "cell_type": "code",
      "execution_count": null,
      "metadata": {
        "id": "J4JHv_9HsvGC",
        "outputId": "4ef86c05-ee74-400e-fee1-8c73df2626d2"
      },
      "outputs": [
        {
          "name": "stdout",
          "output_type": "stream",
          "text": [
            "RF\n"
          ]
        }
      ],
      "source": [
        "print(model_type)"
      ]
    },
    {
      "cell_type": "markdown",
      "metadata": {
        "id": "PiRn0lfqsvGD"
      },
      "source": [
        "# Using All The Defined Functions  "
      ]
    },
    {
      "cell_type": "code",
      "execution_count": null,
      "metadata": {
        "id": "K2DXuRPcsvGD",
        "outputId": "f9f1613d-52a4-4d1f-dcc0-5ac32734c3b0"
      },
      "outputs": [
        {
          "name": "stdout",
          "output_type": "stream",
          "text": [
            "k 2\n",
            "start: 2000\n",
            "end: 3000\n",
            "train_data: 8999\n",
            "test_data: 1000\n",
            "data read\n",
            "training on the data finished \n",
            "train : rec1, prec1, accuracy, f1, tp , fn , fp , tn \n",
            "(0.17577431127474727, 0.5833020738438455, 0.6368917534046993, 0.27014282700683734, 10885, 51041, 7776, 92280)\n",
            "test : rec1, prec1, accuracy, f1, tp , fn , fp , tn \n",
            "(0.18066988362191314, 0.60763723150358, 0.6336111111111111, 0.2785253254567334, 1273, 5773, 822, 10132)\n",
            "fold was done in :  775.3663759231567\n",
            "k 3\n",
            "start: 3000\n",
            "end: 4000\n",
            "train_data: 8999\n",
            "test_data: 1000\n",
            "data read\n",
            "training on the data finished \n",
            "train : rec1, prec1, accuracy, f1, tp , fn , fp , tn \n",
            "(0.2031929864289989, 0.5785207700101317, 0.6393858576878912, 0.3007529597663311, 12562, 49261, 9152, 91007)\n",
            "test : rec1, prec1, accuracy, f1, tp , fn , fp , tn \n",
            "(0.21009931458945308, 0.6222038111019056, 0.6356111111111111, 0.3141273658893653, 1502, 5647, 912, 9939)\n",
            "fold was done in :  1311.8630051612854\n",
            "k 4\n",
            "start: 4000\n",
            "end: 5000\n",
            "train_data: 8999\n",
            "test_data: 1000\n",
            "data read\n",
            "training on the data finished \n",
            "train : rec1, prec1, accuracy, f1, tp , fn , fp , tn \n",
            "(0.2414198704521285, 0.5786506005484108, 0.6420034324801521, 0.340696947302598, 14983, 47079, 10910, 89010)\n",
            "test : rec1, prec1, accuracy, f1, tp , fn , fp , tn \n",
            "(0.22431259044862517, 0.6040530007794233, 0.6457777777777778, 0.3271422541156606, 1550, 5360, 1016, 10074)\n",
            "fold was done in :  1867.118891954422\n",
            "k 5\n",
            "start: 5000\n",
            "end: 6000\n",
            "train_data: 8999\n",
            "test_data: 1000\n",
            "data read\n",
            "training on the data finished \n",
            "train : rec1, prec1, accuracy, f1, tp , fn , fp , tn \n",
            "(0.18907610176827996, 0.5809852216748769, 0.6352125544813622, 0.28530304679656976, 11794, 50583, 8506, 91099)\n",
            "test : rec1, prec1, accuracy, f1, tp , fn , fp , tn \n",
            "(0.20348749052312357, 0.6348155156102177, 0.6652777777777777, 0.30818693305775635, 1342, 5253, 772, 10633)\n",
            "fold was done in :  2492.056297302246\n",
            "k 6\n",
            "start: 6000\n",
            "end: 7000\n",
            "train_data: 8999\n",
            "test_data: 1000\n",
            "data read\n",
            "training on the data finished \n",
            "train : rec1, prec1, accuracy, f1, tp , fn , fp , tn \n",
            "(0.19258367445220323, 0.5887809187279152, 0.6377560469681817, 0.29023478607976194, 11997, 50298, 8379, 91308)\n",
            "test : rec1, prec1, accuracy, f1, tp , fn , fp , tn \n",
            "(0.2096750037441965, 0.5518328734726055, 0.6436666666666667, 0.30388539179509444, 1400, 5277, 1137, 10186)\n",
            "fold was done in :  3510.328856945038\n",
            "k 7\n",
            "start: 7000\n",
            "end: 8000\n",
            "train_data: 8999\n",
            "test_data: 1000\n",
            "data read\n",
            "training on the data finished \n",
            "train : rec1, prec1, accuracy, f1, tp , fn , fp , tn \n",
            "(0.21049072642967542, 0.585123523093448, 0.640034077860503, 0.3096050014208582, 13074, 49038, 9270, 90600)\n",
            "test : rec1, prec1, accuracy, f1, tp , fn , fp , tn \n",
            "(0.22565597667638485, 0.5662033650329188, 0.639, 0.32270168855534714, 1548, 5312, 1186, 9954)\n",
            "fold was done in :  4140.076948881149\n",
            "k 8\n",
            "start: 8000\n",
            "end: 9000\n",
            "train_data: 8999\n",
            "test_data: 1000\n",
            "data read\n",
            "training on the data finished \n",
            "train : rec1, prec1, accuracy, f1, tp , fn , fp , tn \n",
            "(0.1718084336768323, 0.58639231824417, 0.6354286278722328, 0.2657532202715472, 10687, 51516, 7538, 92241)\n",
            "test : rec1, prec1, accuracy, f1, tp , fn , fp , tn \n",
            "(0.1595508937804698, 0.5875952121871599, 0.6418333333333334, 0.25095852213314745, 1080, 5689, 758, 10473)\n",
            "fold was done in :  4825.041668653488\n",
            "k 9\n",
            "start: 9000\n",
            "end: 9999\n",
            "train_data: 9000\n",
            "test_data: 999\n",
            "data read\n",
            "training on the data finished \n",
            "train : rec1, prec1, accuracy, f1, tp , fn , fp , tn \n",
            "(0.20156017349647182, 0.5822346891070593, 0.6403086419753087, 0.2994541825963596, 12454, 49334, 8936, 91276)\n",
            "test : rec1, prec1, accuracy, f1, tp , fn , fp , tn \n",
            "(0.14615812917594656, 0.5935556811758056, 0.61889667445223, 0.23455824863174357, 1050, 6134, 719, 10079)\n",
            "fold was done in :  5360.5202023983\n",
            "k 10\n",
            "start: 10000\n",
            "end: 9999\n",
            "train_data: 9999\n",
            "test_data: 0\n",
            "Empty Data Set Found\n"
          ]
        }
      ],
      "source": [
        "#code e azin\n",
        "from tensorflow.python.client import device_lib\n",
        "\n",
        "\n",
        "\n",
        "\n",
        "# We should know the type of the model inorder to know what to do at runtime for data preparation and also model compilation\n",
        "import time\n",
        "assert(model_type is not None)\n",
        "warnings.filterwarnings(\"ignore\")\n",
        "\n",
        "\n",
        "# K is for our K-fold\n",
        "k = 10\n",
        "# The name of the codes we want to use, you can slice this list to a smaller list for a fast test\n",
        "l = list_files[:]\n",
        "# The number of codes we use on each fold\n",
        "size = math.ceil(len(l) / k)\n",
        "# Verbose for our NN model\n",
        "verbose = 0\n",
        "\n",
        "# The results for trains and tests respectivly\n",
        "trs = []\n",
        "ts = []\n",
        "\n",
        "for i in range(2,k+1):\n",
        "    tic = time.time()\n",
        "\n",
        "    print(\"k\", i)\n",
        "#     start and end will be the indicies for what we'll use for test\n",
        "    start  = i * size\n",
        "    end    = min(len(l), (i + 1) * size)\n",
        "    print('start:',start)\n",
        "    print('end:',end)\n",
        "    data_train = l[:start] + l[end:]\n",
        "    data_test  = l[start : end]\n",
        "    print(\"train_data:\",len(data_train))\n",
        "    print(\"test_data:\",len(data_test))\n",
        "    if len(data_test) <= 0 or len(data_train) <= 0 :\n",
        "        print(\"Empty Data Set Found\")\n",
        "        continue\n",
        "\n",
        "\n",
        "    # gathering data for train\n",
        "    r_train, scaler, pad1, pad2 = gather_data(data_train, archive, add_all = True)\n",
        "    # gathering data for test, please note that the same mean and standard deviation that was computed for train will be used to\n",
        "    # normalize test data and also the information of pad1 and pad2 is computed from train so that no information will be\n",
        "    # leaked from train and also none of the aforementioned are dependent on the test data\n",
        "    r_test, _, _, _ = gather_data(data_test, archive, scaler = scaler, add_all = True, pad1 = pad1, pad2 = pad2)\n",
        "\n",
        "    r_train = r_train.astype(np.float32)\n",
        "    r_test = r_test.astype(np.float32)\n",
        "    print(\"data read\")\n",
        "\n",
        "\n",
        "    # making the X, y for train and test set\n",
        "    X_train = r_train[:, :, :-2]\n",
        "    y_train = r_train[:, :, -2:]\n",
        "\n",
        "\n",
        "    X_test = r_test[:, :, :-2]\n",
        "    y_test = r_test[:, :, -2:]\n",
        "\n",
        "\n",
        "    if not (model_type == NN_MODEL) :\n",
        "\n",
        "        X_train = X_train[:].reshape((-1, X_train.shape[-1]))\n",
        "        y_train = np.argmax(y_train[:], -1).reshape((-1))\n",
        "        X_test = X_test[:].reshape((-1, X_train.shape[-1]))\n",
        "        y_test = np.argmax(y_test[:], -1).reshape((-1))\n",
        "\n",
        "\n",
        "    # configuring model\n",
        "    if model_type == NN_MODEL :\n",
        "        model = get_model([None, r_train.shape[-1] - 2])\n",
        "        #model = multi_gpu_model(model, gpus=4)\n",
        "#         loss = get_loss_function(WEIGHTS_FOR_LOSS)\n",
        "        loss = keras.losses.categorical_crossentropy\n",
        "        model.compile(keras.optimizers.Adam(lr = 5e-4), loss, metrics = [\"accuracy\"], sample_weight_mode=\"temporal\")\n",
        "    elif model_type == RANDOM_FOREST_MODEL :\n",
        "        model = get_random_forest_model(X_train.shape, i)\n",
        "    elif model_type == KNN_MODEL :\n",
        "        model = get_KNN_model(X_train.shape, k)\n",
        "    else :\n",
        "        raise Exception(\"You didn't use the right command for the model\")\n",
        "\n",
        "    # training the model\n",
        "    if model_type == NN_MODEL :\n",
        "            print(\"training on the data started \")\n",
        "            print(\"Before train : rec1, prec1, accuracy, f1, tp , fn , fp , tn \")\n",
        "            print(get_mus(y_train, X_train, model))\n",
        "\n",
        "            sample_weight = y_train[:, :, -2]*weight_class_0 + y_train[:, :, -1]*weight_class_1\n",
        "            model.fit(X_train, y_train, validation_data = [X_test, y_test], epochs = 15, batch_size = 8, verbose = verbose\n",
        "                      ,sample_weight = sample_weight\n",
        "                 )\n",
        "    else :\n",
        "        model.fit(X_train, y_train)\n",
        "\n",
        "    print(\"training on the data finished \")\n",
        "\n",
        "    # saving and printing the accuracy of training data\n",
        "    print(\"train : rec1, prec1, accuracy, f1, tp , fn , fp , tn \")\n",
        "    trs.append(get_mus(y_train, X_train,model))\n",
        "    print(trs[-1])\n",
        "\n",
        "    # preparing to write the training accuracy to a file\n",
        "    strRes = \"train : \"\n",
        "    for counter in range(8):\n",
        "        strRes = strRes + '%.5f' % trs[-1][counter] + \" , \"\n",
        "\n",
        "    strRes += \" \\n \"\n",
        "\n",
        "\n",
        "    # saving and printing the accuracy of testing data\n",
        "    print(\"test : rec1, prec1, accuracy, f1, tp , fn , fp , tn \")\n",
        "    ts.append(get_mus(y_test, X_test,model))\n",
        "    print(ts[-1])\n",
        "\n",
        "    # preparing to write the testing accuracy to a file\n",
        "    strRes += \" test :  \"\n",
        "    for counter in range(8):\n",
        "        strRes = strRes + '%.5f' % ts[-1][counter] + \" , \"\n",
        "\n",
        "    # writing the accuracies on to a file\n",
        "    f = open(\"test.txt\", \"a\")\n",
        "    f.write(strRes + \"\\n\")\n",
        "    f.close()\n",
        "    toc = time.time()\n",
        "    print(\"fold was done in : \", toc - tic)\n",
        ""
      ]
    },
    {
      "cell_type": "code",
      "execution_count": null,
      "metadata": {
        "id": "CGmrTDdksvGD"
      },
      "outputs": [],
      "source": [
        "import joblib\n",
        "#joblib.dump(model,'random_forest.joblib')"
      ]
    },
    {
      "cell_type": "code",
      "execution_count": null,
      "metadata": {
        "id": "1qvcAcuZsvGD"
      },
      "outputs": [],
      "source": [
        "data.to_csv(\"nine_fold_avg_result_rf.csv\")"
      ]
    },
    {
      "cell_type": "markdown",
      "metadata": {
        "id": "Q_Kbkzm4svGD"
      },
      "source": [
        "SAVING MODEL"
      ]
    },
    {
      "cell_type": "code",
      "execution_count": null,
      "metadata": {
        "id": "np4e92KksvGD"
      },
      "outputs": [],
      "source": [
        "model_load=joblib.load('random_forest.joblib')"
      ]
    },
    {
      "cell_type": "code",
      "execution_count": null,
      "metadata": {
        "id": "phci4kl7svGD"
      },
      "outputs": [],
      "source": [
        "y_predt = model_load.predict_proba(X_test)"
      ]
    },
    {
      "cell_type": "code",
      "execution_count": null,
      "metadata": {
        "id": "tmBmXNtvsvGE"
      },
      "outputs": [],
      "source": [
        "y_predt=y_predt[:,1]"
      ]
    },
    {
      "cell_type": "code",
      "execution_count": null,
      "metadata": {
        "id": "SKCU9_pKsvGE",
        "outputId": "014e6522-fdfe-4a96-8243-dc520ad64a51"
      },
      "outputs": [
        {
          "data": {
            "text/plain": [
              "['random_forest_new.joblib']"
            ]
          },
          "execution_count": 43,
          "metadata": {},
          "output_type": "execute_result"
        }
      ],
      "source": [
        "#joblib.dump(new_rf,'random_forest_new.joblib')"
      ]
    },
    {
      "cell_type": "code",
      "execution_count": null,
      "metadata": {
        "id": "AoTgUnRMsvGE",
        "outputId": "d73e5522-307c-47c2-a533-bc93475264de"
      },
      "outputs": [
        {
          "data": {
            "text/plain": [
              "{'max_depth': 128,\n",
              " 'min_samples_leaf': 0.2,\n",
              " 'min_samples_split': 0.2,\n",
              " 'n_estimators': 400}"
            ]
          },
          "execution_count": 7,
          "metadata": {},
          "output_type": "execute_result"
        }
      ],
      "source": [
        "model_load.best_params_"
      ]
    },
    {
      "cell_type": "code",
      "execution_count": null,
      "metadata": {
        "id": "0LcZEA9xsvGE"
      },
      "outputs": [],
      "source": [
        "new_rf=RandomForestClassifier(max_depth= 128,\n",
        " min_samples_leaf= 0.2,\n",
        " min_samples_split= 0.2,\n",
        " n_estimators= 400)"
      ]
    },
    {
      "cell_type": "code",
      "execution_count": null,
      "metadata": {
        "id": "tL_dKAT_svGS",
        "outputId": "b0e8b2db-eb65-421c-8a6c-e465234351d3"
      },
      "outputs": [
        {
          "name": "stdout",
          "output_type": "stream",
          "text": [
            "k 0\n",
            "start: 0\n",
            "end: 1000\n",
            "train_data: 8999\n",
            "test_data: 1000\n",
            "data read\n",
            "training on the data finished \n",
            "train : rec1, prec1, accuracy, f1, tp , fn , fp , tn \n",
            "(0.24494076208773616, 0.5866855849982744, 0.6423121087528244, 0.3455956266871477, 15299, 47161, 10778, 88744)\n",
            "test : rec1, prec1, accuracy, f1, tp , fn , fp , tn \n",
            "(0.26136363636363635, 0.5204892966360857, 0.6456666666666667, 0.34798609691269683, 1702, 4810, 1568, 9920)\n",
            "fold was done in :  96.86705803871155\n",
            "k 1\n",
            "start: 1000\n",
            "end: 2000\n",
            "train_data: 8999\n",
            "test_data: 1000\n",
            "data read\n",
            "training on the data finished \n",
            "train : rec1, prec1, accuracy, f1, tp , fn , fp , tn \n",
            "(0.19587695698680757, 0.5860731257879934, 0.6409971478312405, 0.29362032943005684, 12086, 49616, 8536, 91744)\n",
            "test : rec1, prec1, accuracy, f1, tp , fn , fp , tn \n",
            "(0.19807427785419532, 0.5620608899297423, 0.6137777777777778, 0.29292107404393813, 1440, 5830, 1122, 9608)\n",
            "fold was done in :  95.71880507469177\n",
            "k 2\n",
            "start: 2000\n",
            "end: 3000\n",
            "train_data: 8999\n",
            "test_data: 1000\n",
            "data read\n",
            "training on the data finished \n",
            "train : rec1, prec1, accuracy, f1, tp , fn , fp , tn \n",
            "(0.2290152762975164, 0.5791408036589349, 0.641626847427492, 0.3282338509963663, 14182, 47744, 10306, 89750)\n",
            "test : rec1, prec1, accuracy, f1, tp , fn , fp , tn \n",
            "(0.23133692875390294, 0.6048237476808905, 0.6399444444444444, 0.33466789857304186, 1630, 5416, 1065, 9889)\n",
            "fold was done in :  95.74850034713745\n",
            "k 3\n",
            "start: 3000\n",
            "end: 4000\n",
            "train_data: 8999\n",
            "test_data: 1000\n",
            "data read\n",
            "training on the data finished \n",
            "train : rec1, prec1, accuracy, f1, tp , fn , fp , tn \n",
            "(0.1978713423806674, 0.5782557315055542, 0.6387746786680002, 0.29484923714719563, 12233, 49590, 8922, 91237)\n",
            "test : rec1, prec1, accuracy, f1, tp , fn , fp , tn \n",
            "(0.19485242691285495, 0.6252244165170556, 0.6338333333333334, 0.2971099498773595, 1393, 5756, 835, 10016)\n",
            "fold was done in :  95.74945068359375\n",
            "k 4\n",
            "start: 4000\n",
            "end: 5000\n",
            "train_data: 8999\n",
            "test_data: 1000\n",
            "data read\n",
            "training on the data finished \n",
            "train : rec1, prec1, accuracy, f1, tp , fn , fp , tn \n",
            "(0.19503077567593696, 0.5823430358431562, 0.6379906409354126, 0.2922012867092351, 12104, 49958, 8681, 91239)\n",
            "test : rec1, prec1, accuracy, f1, tp , fn , fp , tn \n",
            "(0.18842257597684514, 0.6044568245125348, 0.6411111111111111, 0.2872903795233892, 1302, 5608, 852, 10238)\n",
            "fold was done in :  96.4484429359436\n",
            "k 5\n",
            "start: 5000\n",
            "end: 6000\n",
            "train_data: 8999\n",
            "test_data: 1000\n",
            "data read\n",
            "training on the data finished \n",
            "train : rec1, prec1, accuracy, f1, tp , fn , fp , tn \n",
            "(0.19837440082081537, 0.5779272336649386, 0.6355150572285809, 0.2953644913352747, 12374, 50003, 9037, 90568)\n",
            "test : rec1, prec1, accuracy, f1, tp , fn , fp , tn \n",
            "(0.2136467020470053, 0.6245567375886525, 0.6648333333333334, 0.31838210371709413, 1409, 5186, 847, 10558)\n",
            "fold was done in :  100.60077404975891\n",
            "k 6\n",
            "start: 6000\n",
            "end: 7000\n",
            "train_data: 8999\n",
            "test_data: 1000\n",
            "data read\n",
            "training on the data finished \n",
            "train : rec1, prec1, accuracy, f1, tp , fn , fp , tn \n",
            "(0.19250341118869893, 0.5896931549960661, 0.637941252731785, 0.2902542629279568, 11992, 50303, 8344, 91343)\n",
            "test : rec1, prec1, accuracy, f1, tp , fn , fp , tn \n",
            "(0.213119664519994, 0.5580392156862745, 0.6455, 0.30844261406741086, 1423, 5254, 1127, 10196)\n",
            "fold was done in :  102.01481866836548\n",
            "k 7\n",
            "start: 7000\n",
            "end: 8000\n",
            "train_data: 8999\n",
            "test_data: 1000\n",
            "data read\n",
            "training on the data finished \n",
            "train : rec1, prec1, accuracy, f1, tp , fn , fp , tn \n",
            "(0.18634080370942813, 0.5835434103055359, 0.6370090503883148, 0.2824787054889805, 11574, 50538, 8260, 91610)\n",
            "test : rec1, prec1, accuracy, f1, tp , fn , fp , tn \n",
            "(0.2078717201166181, 0.5683539258668793, 0.6379444444444444, 0.3044081545522468, 1426, 5434, 1083, 10057)\n",
            "fold was done in :  98.2348518371582\n",
            "k 8\n",
            "start: 8000\n",
            "end: 9000\n",
            "train_data: 8999\n",
            "test_data: 1000\n",
            "data read\n",
            "training on the data finished \n",
            "train : rec1, prec1, accuracy, f1, tp , fn , fp , tn \n",
            "(0.21568091571146086, 0.5812824956672443, 0.6391512637206603, 0.3146230784564333, 13416, 48787, 9664, 90115)\n",
            "test : rec1, prec1, accuracy, f1, tp , fn , fp , tn \n",
            "(0.20564337420593884, 0.5834031852472757, 0.6460555555555556, 0.3040961223375205, 1392, 5377, 994, 10237)\n",
            "fold was done in :  98.36105227470398\n",
            "k 9\n",
            "start: 9000\n",
            "end: 9999\n",
            "train_data: 9000\n",
            "test_data: 999\n",
            "data read\n",
            "training on the data finished \n",
            "train : rec1, prec1, accuracy, f1, tp , fn , fp , tn \n",
            "(0.19367838415226257, 0.5851833740831296, 0.6400987654320988, 0.2910333422505411, 11967, 49821, 8483, 91729)\n",
            "test : rec1, prec1, accuracy, f1, tp , fn , fp , tn \n",
            "(0.1428173719376392, 0.5869565217391305, 0.6173951729507285, 0.22973578145991938, 1026, 6158, 722, 10076)\n",
            "fold was done in :  98.73159170150757\n"
          ]
        }
      ],
      "source": [
        "#code e azin\n",
        "from tensorflow.python.client import device_lib\n",
        "\n",
        "\n",
        "\n",
        "\n",
        "# We should know the type of the model inorder to know what to do at runtime for data preparation and also model compilation\n",
        "import time\n",
        "assert(model_type is not None)\n",
        "warnings.filterwarnings(\"ignore\")\n",
        "\n",
        "\n",
        "# K is for our K-fold\n",
        "k = 10\n",
        "# The name of the codes we want to use, you can slice this list to a smaller list for a fast test\n",
        "l = list_files[:]\n",
        "# The number of codes we use on each fold\n",
        "size = math.ceil(len(l) / k)\n",
        "# Verbose for our NN model\n",
        "verbose = 0\n",
        "\n",
        "# The results for trains and tests respectivly\n",
        "trs = []\n",
        "ts = []\n",
        "\n",
        "for i in range(k):\n",
        "    tic = time.time()\n",
        "\n",
        "    print(\"k\", i)\n",
        "#     start and end will be the indicies for what we'll use for test\n",
        "    start  = i * size\n",
        "    end    = min(len(l), (i + 1) * size)\n",
        "    print('start:',start)\n",
        "    print('end:',end)\n",
        "    data_train = l[:start] + l[end:]\n",
        "    data_test  = l[start : end]\n",
        "    print(\"train_data:\",len(data_train))\n",
        "    print(\"test_data:\",len(data_test))\n",
        "    if len(data_test) <= 0 or len(data_train) <= 0 :\n",
        "        print(\"Empty Data Set Found\")\n",
        "        continue\n",
        "\n",
        "\n",
        "    # gathering data for train\n",
        "    r_train, scaler, pad1, pad2 = gather_data(data_train, archive, add_all = True)\n",
        "    # gathering data for test, please note that the same mean and standard deviation that was computed for train will be used to\n",
        "    # normalize test data and also the information of pad1 and pad2 is computed from train so that no information will be\n",
        "    # leaked from train and also none of the aforementioned are dependent on the test data\n",
        "    r_test, _, _, _ = gather_data(data_test, archive, scaler = scaler, add_all = True, pad1 = pad1, pad2 = pad2)\n",
        "\n",
        "    r_train = r_train.astype(np.float32)\n",
        "    r_test = r_test.astype(np.float32)\n",
        "    print(\"data read\")\n",
        "\n",
        "\n",
        "    # making the X, y for train and test set\n",
        "    X_train = r_train[:, :, :-2]\n",
        "    y_train = r_train[:, :, -2:]\n",
        "\n",
        "\n",
        "    X_test = r_test[:, :, :-2]\n",
        "    y_test = r_test[:, :, -2:]\n",
        "\n",
        "\n",
        "\n",
        "\n",
        "    X_train = X_train[:].reshape((-1, X_train.shape[-1]))\n",
        "    y_train = np.argmax(y_train[:], -1).reshape((-1))\n",
        "    X_test = X_test[:].reshape((-1, X_train.shape[-1]))\n",
        "    y_test = np.argmax(y_test[:], -1).reshape((-1))\n",
        "\n",
        "\n",
        "\n",
        "\n",
        "    new_rf.fit(X_train, y_train)\n",
        "\n",
        "    print(\"training on the data finished \")\n",
        "\n",
        "    # saving and printing the accuracy of training data\n",
        "    print(\"train : rec1, prec1, accuracy, f1, tp , fn , fp , tn \")\n",
        "    trs.append(get_mus(y_train, X_train,new_rf))\n",
        "    print(trs[-1])\n",
        "\n",
        "    # preparing to write the training accuracy to a file\n",
        "    strRes = \"train : \"\n",
        "    for counter in range(8):\n",
        "        strRes = strRes + '%.5f' % trs[-1][counter] + \" , \"\n",
        "\n",
        "    strRes += \" \\n \"\n",
        "\n",
        "\n",
        "    # saving and printing the accuracy of testing data\n",
        "    print(\"test : rec1, prec1, accuracy, f1, tp , fn , fp , tn \")\n",
        "    ts.append(get_mus(y_test, X_test,new_rf))\n",
        "    print(ts[-1])\n",
        "\n",
        "    # preparing to write the testing accuracy to a file\n",
        "    strRes += \" test :  \"\n",
        "    for counter in range(8):\n",
        "        strRes = strRes + '%.5f' % ts[-1][counter] + \" , \"\n",
        "\n",
        "    # writing the accuracies on to a file\n",
        "    f = open(\"test.txt\", \"a\")\n",
        "    f.write(strRes + \"\\n\")\n",
        "    f.close()\n",
        "    toc = time.time()\n",
        "    print(\"fold was done in : \", toc - tic)\n",
        ""
      ]
    },
    {
      "cell_type": "markdown",
      "metadata": {
        "id": "8C2skvWusvGS"
      },
      "source": [
        "AVG RESULT FOR TRAIN AND TEST MEASUREMENTS"
      ]
    },
    {
      "cell_type": "code",
      "execution_count": null,
      "metadata": {
        "id": "sjMBTbywsvGS",
        "outputId": "24ad4f75-2728-4ae7-8498-a6817f8d8c86"
      },
      "outputs": [
        {
          "name": "stdout",
          "output_type": "stream",
          "text": [
            "avg train : rec1, prec1, accuracy, f1\n",
            "[0.2049313  0.5830128  0.63914168 0.30282542]\n",
            "avg test : rec1, prec1, accuracy, f1\n",
            "[0.20571487 0.58383648 0.63860618 0.30250402]\n"
          ]
        }
      ],
      "source": [
        "trs = np.array(trs)\n",
        "ts = np.array(ts)\n",
        "print(\"avg train : rec1, prec1, accuracy, f1\")\n",
        "train_avg=np.mean(trs[:, : 4], axis=0)\n",
        "#print(np.mean(trs[:, : 4], axis=0))\n",
        "print(train_avg)\n",
        "print(\"avg test : rec1, prec1, accuracy, f1\")\n",
        "test_avg=np.mean(ts[:, : 4], axis=0)\n",
        "#print(np.mean(ts[:, : 4], axis=0))\n",
        "print(test_avg)"
      ]
    },
    {
      "cell_type": "code",
      "execution_count": null,
      "metadata": {
        "id": "IpZRMU7MsvGS"
      },
      "outputs": [],
      "source": [
        "train_res=train_avg\n",
        "test_res=test_avg"
      ]
    },
    {
      "cell_type": "code",
      "execution_count": null,
      "metadata": {
        "id": "kQPLRnlUsvGS",
        "outputId": "d4c9faab-ab8f-446e-de6b-21ded1440ad4"
      },
      "outputs": [
        {
          "data": {
            "text/html": [
              "<div>\n",
              "<style scoped>\n",
              "    .dataframe tbody tr th:only-of-type {\n",
              "        vertical-align: middle;\n",
              "    }\n",
              "\n",
              "    .dataframe tbody tr th {\n",
              "        vertical-align: top;\n",
              "    }\n",
              "\n",
              "    .dataframe thead th {\n",
              "        text-align: right;\n",
              "    }\n",
              "</style>\n",
              "<table border=\"1\" class=\"dataframe\">\n",
              "  <thead>\n",
              "    <tr style=\"text-align: right;\">\n",
              "      <th></th>\n",
              "      <th>names</th>\n",
              "      <th>train_res</th>\n",
              "      <th>test_res</th>\n",
              "    </tr>\n",
              "  </thead>\n",
              "  <tbody>\n",
              "    <tr>\n",
              "      <th>0</th>\n",
              "      <td>rec1</td>\n",
              "      <td>0.204931</td>\n",
              "      <td>0.205715</td>\n",
              "    </tr>\n",
              "    <tr>\n",
              "      <th>1</th>\n",
              "      <td>prec1</td>\n",
              "      <td>0.583013</td>\n",
              "      <td>0.583836</td>\n",
              "    </tr>\n",
              "    <tr>\n",
              "      <th>2</th>\n",
              "      <td>accuracy</td>\n",
              "      <td>0.639142</td>\n",
              "      <td>0.638606</td>\n",
              "    </tr>\n",
              "    <tr>\n",
              "      <th>3</th>\n",
              "      <td>f1</td>\n",
              "      <td>0.302825</td>\n",
              "      <td>0.302504</td>\n",
              "    </tr>\n",
              "  </tbody>\n",
              "</table>\n",
              "</div>"
            ],
            "text/plain": [
              "      names  train_res  test_res\n",
              "0      rec1   0.204931  0.205715\n",
              "1     prec1   0.583013  0.583836\n",
              "2  accuracy   0.639142  0.638606\n",
              "3        f1   0.302825  0.302504"
            ]
          },
          "execution_count": 31,
          "metadata": {},
          "output_type": "execute_result"
        }
      ],
      "source": [
        "names=['rec1', 'prec1', 'accuracy', 'f1']\n",
        "dict_pd={'names':['rec1', 'prec1', 'accuracy', 'f1'],'train_res':train_res,'test_res':test_res}\n",
        "data=pd.DataFrame(dict_pd)\n",
        "data"
      ]
    },
    {
      "cell_type": "code",
      "execution_count": null,
      "metadata": {
        "id": "erPiSF0HsvGS"
      },
      "outputs": [],
      "source": [
        "data.to_csv(\"ten_fold_avg_result_rf.csv\")"
      ]
    },
    {
      "cell_type": "code",
      "execution_count": null,
      "metadata": {
        "id": "H2T3FvPvsvGS",
        "outputId": "74b2d3ad-497f-4283-bd6a-0bbf8c110461"
      },
      "outputs": [
        {
          "data": {
            "image/png": "[encoded data removed]",
            "text/plain": [
              "<Figure size 720x576 with 1 Axes>"
            ]
          },
          "metadata": {
            "needs_background": "light"
          },
          "output_type": "display_data"
        }
      ],
      "source": [
        "import matplotlib.pyplot as plt\n",
        "%matplotlib inline\n",
        "\n",
        "plt.figure(figsize=(10,8))\n",
        "\n",
        "colors={'rec1':'red', 'prec1':'orange', 'accuracy':'blue', 'f1':'green'}\n",
        "c=data['names'].apply(lambda x:colors[x])\n",
        "plt.bar(dict_pd['names'], dict_pd['train_res'], color=c)\n",
        "#plt.legend(['recall','precision','accuracy','f-measure'])\n",
        "plt.title(\"TRAINING RESULT\", fontsize=15)\n",
        "plt.xlabel('PERFORMANCE MEASURES', fontsize=15)\n",
        "plt.ylabel('SCORE', fontsize=15)\n",
        "plt.show()\n"
      ]
    },
    {
      "cell_type": "code",
      "execution_count": null,
      "metadata": {
        "id": "QF1zMLQ3svGS",
        "outputId": "287173cf-b1b0-4d2e-f787-89b7df63d5e8"
      },
      "outputs": [
        {
          "data": {
            "image/png": "[encoded data removed]",
            "text/plain": [
              "<Figure size 720x576 with 1 Axes>"
            ]
          },
          "metadata": {
            "needs_background": "light"
          },
          "output_type": "display_data"
        }
      ],
      "source": [
        "plt.figure(figsize=(10,8))\n",
        "colors={'rec1':'red', 'prec1':'orange', 'accuracy':'blue', 'f1':'green'}\n",
        "c=data['names'].apply(lambda x:colors[x])\n",
        "plt.bar(dict_pd['names'], dict_pd['test_res'], color=c)\n",
        "#plt.legend(['recall','precision','accuracy','f-measure'], loc='upper left')\n",
        "plt.title(\"TESTING RESULT\",fontsize=15)\n",
        "plt.xlabel('PERFORMANCE MEASURES',fontsize=15)\n",
        "plt.ylabel('SCORE',fontsize=15)\n",
        "plt.show()"
      ]
    },
    {
      "cell_type": "code",
      "execution_count": null,
      "metadata": {
        "id": "Nhkcp_NNsvGT"
      },
      "outputs": [],
      "source": [
        "y_pred = new_rf.predict_proba(X_test)"
      ]
    },
    {
      "cell_type": "code",
      "execution_count": null,
      "metadata": {
        "id": "dG1Wp-iqsvGT"
      },
      "outputs": [],
      "source": [
        "y_pred=y_pred[:,1]"
      ]
    },
    {
      "cell_type": "markdown",
      "metadata": {
        "id": "guyxAUn_svGT"
      },
      "source": [
        "ROC AND PREC-REC CURVES"
      ]
    },
    {
      "cell_type": "code",
      "execution_count": null,
      "metadata": {
        "id": "3W2KXn_NsvGT"
      },
      "outputs": [],
      "source": [
        "fpr,tpr,_=roc_curve(y_test,y_pred)\n",
        "precision,recall,_=precision_recall_curve(y_test,y_pred)"
      ]
    },
    {
      "cell_type": "code",
      "execution_count": null,
      "metadata": {
        "id": "DFeDxrOBsvGT",
        "outputId": "d5b78373-9550-4925-943c-c324c188dba6"
      },
      "outputs": [
        {
          "data": {
            "text/plain": [
              "<matplotlib.legend.Legend at 0x1a2001d2400>"
            ]
          },
          "execution_count": 76,
          "metadata": {},
          "output_type": "execute_result"
        },
        {
          "data": {
            "image/png": "[encoded data removed]",
            "text/plain": [
              "<Figure size 576x360 with 1 Axes>"
            ]
          },
          "metadata": {
            "needs_background": "light"
          },
          "output_type": "display_data"
        }
      ],
      "source": [
        "import matplotlib.pyplot as plt\n",
        "%matplotlib inline\n",
        "plt.figure(figsize=(8,5))\n",
        "plt.plot(fpr,tpr,linestyle=\"-.\", color='r', label=\"AUC=0.7429586494921314\")\n",
        "plt.xlabel('fpr',fontsize=15)\n",
        "plt.ylabel('tpr', fontsize=15)\n",
        "plt.title('ROC-CURVE',fontsize=20)\n",
        "plt.legend(loc=4)"
      ]
    },
    {
      "cell_type": "code",
      "execution_count": null,
      "metadata": {
        "id": "XtsrTTWzsvGT",
        "outputId": "3308670b-62c2-4d66-e802-e1663c933d74"
      },
      "outputs": [
        {
          "data": {
            "text/plain": [
              "<matplotlib.legend.Legend at 0x1a21d2078b0>"
            ]
          },
          "execution_count": 81,
          "metadata": {},
          "output_type": "execute_result"
        },
        {
          "data": {
            "image/png": "[encoded data removed]",
            "text/plain": [
              "<Figure size 576x360 with 1 Axes>"
            ]
          },
          "metadata": {
            "needs_background": "light"
          },
          "output_type": "display_data"
        }
      ],
      "source": [
        "plt.figure(figsize=(8,5))\n",
        "plt.plot(precision,recall,linestyle=\"--\",label=\"AUC=\"+str(prec_rec_auc))\n",
        "plt.ylabel(\"precision\",fontsize=15)\n",
        "plt.xlabel(\"Recall\", fontsize=15)\n",
        "plt.title('PRECISION-RECALL CURVE',fontsize=20)\n",
        "plt.legend()"
      ]
    },
    {
      "cell_type": "code",
      "execution_count": null,
      "metadata": {
        "id": "3B-3EAubsvGT",
        "outputId": "7368c406-12fc-425a-874e-82037e9e1c04"
      },
      "outputs": [
        {
          "data": {
            "text/plain": [
              "0.7429586494921314"
            ]
          },
          "execution_count": 69,
          "metadata": {},
          "output_type": "execute_result"
        }
      ],
      "source": [
        "rf_auc=roc_auc_score(y_test,y_pred)\n",
        "rf_auc"
      ]
    },
    {
      "cell_type": "code",
      "execution_count": null,
      "metadata": {
        "id": "h91iDkC1svGT"
      },
      "outputs": [],
      "source": [
        "from sklearn.metrics import auc\n",
        "prec_rec_auc=auc(recall, precision)"
      ]
    },
    {
      "cell_type": "code",
      "execution_count": null,
      "metadata": {
        "id": "mWcO4zECsvGT",
        "outputId": "8c06bbf6-be8d-4af5-d586-9fb619f46eaf"
      },
      "outputs": [
        {
          "data": {
            "text/plain": [
              "0.5733245035758927"
            ]
          },
          "execution_count": 80,
          "metadata": {},
          "output_type": "execute_result"
        }
      ],
      "source": [
        "prec_rec_auc"
      ]
    },
    {
      "cell_type": "code",
      "execution_count": null,
      "metadata": {
        "id": "pg4geTldsvGT"
      },
      "outputs": [],
      "source": []
    }
  ],
  "metadata": {
    "kernelspec": {
      "display_name": "Python 3",
      "language": "python",
      "name": "python3"
    },
    "language_info": {
      "codemirror_mode": {
        "name": "ipython",
        "version": 3
      },
      "file_extension": ".py",
      "mimetype": "text/x-python",
      "name": "python",
      "nbconvert_exporter": "python",
      "pygments_lexer": "ipython3",
      "version": "3.8.8"
    },
    "colab": {
      "provenance": []
    }
  },
  "nbformat": 4,
  "nbformat_minor": 0
}